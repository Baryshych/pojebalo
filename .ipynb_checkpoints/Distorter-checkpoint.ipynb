{
 "cells": [
  {
   "cell_type": "code",
   "execution_count": 9,
   "metadata": {},
   "outputs": [
    {
     "ename": "TypeError",
     "evalue": "distort() missing 1 required positional argument: 'scale'",
     "output_type": "error",
     "traceback": [
      "\u001b[0;31m---------------------------------------------------------------------------\u001b[0m",
      "\u001b[0;31mTypeError\u001b[0m                                 Traceback (most recent call last)",
      "\u001b[0;32m<ipython-input-9-084e1c032429>\u001b[0m in \u001b[0;36m<module>\u001b[0;34m\u001b[0m\n\u001b[1;32m     20\u001b[0m \u001b[0;31m#     buf.seek(0)\u001b[0m\u001b[0;34m\u001b[0m\u001b[0;34m\u001b[0m\u001b[0;34m\u001b[0m\u001b[0m\n\u001b[1;32m     21\u001b[0m \u001b[0;34m\u001b[0m\u001b[0m\n\u001b[0;32m---> 22\u001b[0;31m \u001b[0mdistort\u001b[0m\u001b[0;34m(\u001b[0m\u001b[0;34m\"images/0.jpg\"\u001b[0m\u001b[0;34m)\u001b[0m\u001b[0;34m\u001b[0m\u001b[0;34m\u001b[0m\u001b[0m\n\u001b[0m\u001b[1;32m     23\u001b[0m \u001b[0mdistort\u001b[0m\u001b[0;34m(\u001b[0m\u001b[0;34m\"images/AgADAgADu6wxGz-6EUleQCgkoOYay8doXA8ABAEAAwIAA3kAA_9FBAABFgQ.jpg\"\u001b[0m\u001b[0;34m)\u001b[0m\u001b[0;34m\u001b[0m\u001b[0;34m\u001b[0m\u001b[0m\n",
      "\u001b[0;31mTypeError\u001b[0m: distort() missing 1 required positional argument: 'scale'"
     ]
    }
   ],
   "source": [
    "from io import BytesIO\n",
    "from glob import glob\n",
    "import os\n",
    "from PIL import Image\n",
    "import random\n",
    "\n",
    "def distort(fname, scale=0.6):\n",
    "    scale = int(100 * scale)\n",
    "    image = Image.open(fname)\n",
    "    imgdimens = image.width, image.height\n",
    "    distortcmd = f\"magick {fname} -liquid-rescale {scale}x{scale}%! -resize {imgdimens[0]}x{imgdimens[1]}\\! result/{fname}\"\n",
    "#     print(distortcmd)\n",
    "    os.system(distortcmd)  \n",
    "#     buf = BytesIO()\n",
    "#     buf.name = 'image.jpeg'\n",
    "\n",
    "#     image = Image.open(f\"result/{fname}\")\n",
    "#     filetype = \"JPEG\" if fname.endswith(\".jpg\") else \"PNG\"\n",
    "#     image.save(buf, filetype)\n",
    "#     buf.seek(0)\n",
    "    \n",
    "distort(\"images/0.jpg\")\n",
    "distort(\"images/AgADAgADu6wxGz-6EUleQCgkoOYay8doXA8ABAEAAwIAA3kAA_9FBAABFgQ.jpg\", 0.2)"
   ]
  }
 ],
 "metadata": {
  "kernelspec": {
   "display_name": "Python 3",
   "language": "python",
   "name": "python3"
  },
  "language_info": {
   "codemirror_mode": {
    "name": "ipython",
    "version": 3
   },
   "file_extension": ".py",
   "mimetype": "text/x-python",
   "name": "python",
   "nbconvert_exporter": "python",
   "pygments_lexer": "ipython3",
   "version": "3.6.8"
  }
 },
 "nbformat": 4,
 "nbformat_minor": 2
}
