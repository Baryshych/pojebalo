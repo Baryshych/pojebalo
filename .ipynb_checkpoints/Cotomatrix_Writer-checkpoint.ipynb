{
 "cells": [
  {
   "cell_type": "code",
   "execution_count": 2,
   "metadata": {},
   "outputs": [],
   "source": [
    "sample_path = '/DL/Hackathon_2020/images/AgADAgADTawxG3t9GUlxzHKYx68AAaxHT8sOAAQBAAMCAAN5AAPlDQEAARYE.jpg'"
   ]
  },
  {
   "cell_type": "code",
   "execution_count": 77,
   "metadata": {},
   "outputs": [],
   "source": [
    "from PIL import Image\n",
    "from PIL import ImageFont\n",
    "from PIL import ImageDraw\n",
    "\n",
    "img = Image.open(sample_path)\n",
    "draw = ImageDraw.Draw(img)\n",
    "img_fraction = 0.50\n",
    "# font = ImageFont.truetype(<font-file>, <font-size>)\n",
    "fontsize = 40\n",
    "sample_text = \"All those men... Dicks in your ass and your mouth!\"\n",
    "font = ImageFont.truetype(\"Arial.ttf\", fontsize)\n",
    "draw.text((int(img.size[0]*0.05), int(img.size[0]*0.8)),sample_text,\\\n",
    "          (255,255,0),font=font)\n",
    "img.save('/DL/Hackathon_2020/sample-out.jpg')"
   ]
  },
  {
   "cell_type": "code",
   "execution_count": 67,
   "metadata": {},
   "outputs": [],
   "source": [
    "def text_writer(path,fontsize):\n",
    "    from PIL import Image,ImageFont,ImageDraw\n",
    "    from pandas import read_csv as rc\n",
    "    from random import randrange\n",
    "    \n",
    "    a = read_csv('./kotomatrix.txt',sep = '\\r',header = None)\n",
    "    text_index = randrange(0,a.size)\n",
    "    text = a.loc[text_index][0]\n",
    "    img = Image.open(path)\n",
    "    draw = ImageDraw.Draw(img)\n",
    "    img_fraction = 0.50\n",
    "    fontsize = 40\n",
    "    font = ImageFont.truetype(\"Arial.ttf\", fontsize)\n",
    "    draw.text((int(img.size[0]*0.05), int(img.size[0]*0.8)),text,\\\n",
    "          (255,255,0),font=font)\n",
    "    img.save('/DL/Hackathon_2020/sample-out.jpg')"
   ]
  },
  {
   "cell_type": "code",
   "execution_count": 65,
   "metadata": {},
   "outputs": [],
   "source": [
    "from pandas import read_csv as rc\n",
    "\n",
    "a = read_csv('./cotomatrix.txt',sep = '\\r',header = None)"
   ]
  },
  {
   "cell_type": "code",
   "execution_count": 72,
   "metadata": {},
   "outputs": [
    {
     "data": {
      "text/plain": [
       "2164"
      ]
     },
     "execution_count": 72,
     "metadata": {},
     "output_type": "execute_result"
    }
   ],
   "source": [
    "from random import randrange\n",
    "randrange(0,a.size)"
   ]
  },
  {
   "cell_type": "code",
   "execution_count": 89,
   "metadata": {},
   "outputs": [],
   "source": [
    "from PIL import Image,ImageFont,ImageDraw\n",
    "from pandas import read_csv as rc\n",
    "from random import randrange\n",
    "    \n",
    "a = read_csv('./kotomatrix.txt',sep = '\\r',header = None)\n",
    "text_index = randrange(0,a.size)\n",
    "text = a.loc[text_index][0]\n",
    "img = Image.open(sample_path)\n",
    "draw = ImageDraw.Draw(img)\n",
    "img_fraction = 0.50\n",
    "fontsize = 30\n",
    "font = ImageFont.truetype(\"Arial.ttf\", fontsize)\n",
    "lineCnt = 0\n",
    "for line in str(text):\n",
    "    draw.text((35 + 5,570 + 80 * lineCnt), line, font=font)\n",
    "    lineCnt = lineCnt +1\n",
    "\n",
    "    \n",
    "    #draw.text((int(img.size[0]*0.05), int(img.size[0]*0.8)),text,\\\n",
    "    #      (255,255,0),font=font)\n",
    "img.save('/DL/Hackathon_2020/sample-out.jpg')"
   ]
  },
  {
   "cell_type": "code",
   "execution_count": null,
   "metadata": {},
   "outputs": [],
   "source": [
    "    lineCnt = 0\n",
    "    for line in str(attText):\n",
    "        draw = ImageDraw.Draw(blankTemplate)\n",
    "        draw.text((35 + attSpacing,570 + 80 * lineCnt), line, font=attFont)\n",
    "        lineCnt = lineCnt +1"
   ]
  },
  {
   "cell_type": "code",
   "execution_count": null,
   "metadata": {},
   "outputs": [],
   "source": []
  },
  {
   "cell_type": "code",
   "execution_count": null,
   "metadata": {},
   "outputs": [],
   "source": []
  }
 ],
 "metadata": {
  "kernelspec": {
   "display_name": "Python 3",
   "language": "python",
   "name": "python3"
  },
  "language_info": {
   "codemirror_mode": {
    "name": "ipython",
    "version": 3
   },
   "file_extension": ".py",
   "mimetype": "text/x-python",
   "name": "python",
   "nbconvert_exporter": "python",
   "pygments_lexer": "ipython3",
   "version": "3.6.8"
  }
 },
 "nbformat": 4,
 "nbformat_minor": 2
}
