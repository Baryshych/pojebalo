{
 "cells": [
  {
   "cell_type": "code",
   "execution_count": 132,
   "metadata": {},
   "outputs": [],
   "source": [
    "sample_path = '/DL/Hackathon_2020/images/129501ba7760429a9330c89a555b48a7.jpg'"
   ]
  },
  {
   "cell_type": "code",
   "execution_count": 77,
   "metadata": {},
   "outputs": [],
   "source": [
    "from PIL import Image\n",
    "from PIL import ImageFont\n",
    "from PIL import ImageDraw\n",
    "\n",
    "img = Image.open(sample_path)\n",
    "draw = ImageDraw.Draw(img)\n",
    "img_fraction = 0.50\n",
    "# font = ImageFont.truetype(<font-file>, <font-size>)\n",
    "fontsize = 40\n",
    "sample_text = \"All those men... Dicks in your ass and your mouth!\"\n",
    "font = ImageFont.truetype(\"Arial.ttf\", fontsize)\n",
    "draw.text((int(img.size[0]*0.05), int(img.size[0]*0.8)),sample_text,\\\n",
    "          (255,255,0),font=font)\n",
    "img.save('/DL/Hackathon_2020/sample-out.jpg')"
   ]
  },
  {
   "cell_type": "code",
   "execution_count": 125,
   "metadata": {},
   "outputs": [],
   "source": [
    "def text_writer(img_path,fontsize,filename):\n",
    "    from PIL import Image,ImageFont,ImageDraw\n",
    "    from pandas import read_csv as rc\n",
    "    from random import randrange\n",
    "    from textwrap3 import wrap\n",
    "\n",
    "    a = read_csv('./kotomatrix.txt',sep = '\\r',header = None)\n",
    "    text_index = randrange(0,a.size)\n",
    "    text = a.loc[text_index][0]\n",
    "    img = Image.open(img_path)\n",
    "    draw = ImageDraw.Draw(img)\n",
    "    img_fraction = 0.50\n",
    "    font = ImageFont.truetype(\"Arial.ttf\", fontsize)\n",
    "  \n",
    "    margin = int(img.size[0]*0.05)\n",
    "    offset = int(img.size[0]*0.6)\n",
    "    for line in wrap(text, width=50):\n",
    "        draw.text((margin, offset), line, (255,255,0), font=font)\n",
    "        offset += font.getsize(line)[1]\n",
    "        \n",
    "    img.save(\"/DL/Hackathon_2020/koto_{}.jpeg\".format(filename))"
   ]
  },
  {
   "cell_type": "code",
   "execution_count": 127,
   "metadata": {},
   "outputs": [],
   "source": [
    "text_writer('/DL/Hackathon_2020/images/AgADAgADTawxG3t9GUlxzHKYx68AAaxHT8sOAAQBAAMCAAN5AAPlDQEAARYE.jpg',30,\"AgADAgADTawxG3t9GUlxzHKYx68AAaxHT8sOAAQBAAMCAAN5AAPlDQEAARYE\")"
   ]
  },
  {
   "cell_type": "code",
   "execution_count": 65,
   "metadata": {},
   "outputs": [],
   "source": [
    "from pandas import read_csv as rc\n",
    "\n",
    "a = read_csv('./cotomatrix.txt',sep = '\\r',header = None)"
   ]
  },
  {
   "cell_type": "code",
   "execution_count": 72,
   "metadata": {},
   "outputs": [
    {
     "data": {
      "text/plain": [
       "2164"
      ]
     },
     "execution_count": 72,
     "metadata": {},
     "output_type": "execute_result"
    }
   ],
   "source": [
    "from random import randrange\n",
    "randrange(0,a.size)"
   ]
  },
  {
   "cell_type": "code",
   "execution_count": 139,
   "metadata": {},
   "outputs": [],
   "source": [
    "from PIL import Image,ImageFont,ImageDraw\n",
    "from pandas import read_csv as rc\n",
    "from random import randrange\n",
    "from textwrap3 import wrap\n",
    "\n",
    "a = read_csv('./kotomatrix.txt',sep = '\\r',header = None)\n",
    "text_index = randrange(0,a.size)\n",
    "text = a.loc[text_index][0]\n",
    "img = Image.open(sample_path)\n",
    "draw = ImageDraw.Draw(img)\n",
    "img_fraction = 0.50\n",
    "fontsize = 30\n",
    "font = ImageFont.truetype(\"Arial.ttf\", fontsize)\n",
    "\n",
    "margin = int(img.size[0]*0.05)\n",
    "offset = int(img.size[0]*0.7)\n",
    "for line in wrap(text, width=40):\n",
    "    draw.text((margin, offset), line, (255,255,0), font=font)\n",
    "    offset += font.getsize(line)[1]\n",
    "    \n",
    "#draw.text((int(img.size[0]*0.05), int(img.size[0]*0.8)),text,\\\n",
    "#          (255,255,0),font=font)\n",
    "img.save('/DL/Hackathon_2020/sample-out.jpg')"
   ]
  },
  {
   "cell_type": "code",
   "execution_count": null,
   "metadata": {},
   "outputs": [],
   "source": [
    "    lineCnt = 0\n",
    "    for line in str(attText):\n",
    "        draw = ImageDraw.Draw(blankTemplate)\n",
    "        draw.text((35 + attSpacing,570 + 80 * lineCnt), line, font=attFont)\n",
    "        lineCnt = lineCnt +1"
   ]
  },
  {
   "cell_type": "code",
   "execution_count": null,
   "metadata": {},
   "outputs": [],
   "source": []
  },
  {
   "cell_type": "code",
   "execution_count": null,
   "metadata": {},
   "outputs": [],
   "source": []
  }
 ],
 "metadata": {
  "kernelspec": {
   "display_name": "Python 3",
   "language": "python",
   "name": "python3"
  },
  "language_info": {
   "codemirror_mode": {
    "name": "ipython",
    "version": 3
   },
   "file_extension": ".py",
   "mimetype": "text/x-python",
   "name": "python",
   "nbconvert_exporter": "python",
   "pygments_lexer": "ipython3",
   "version": "3.6.8"
  }
 },
 "nbformat": 4,
 "nbformat_minor": 2
}
