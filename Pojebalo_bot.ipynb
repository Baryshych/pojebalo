{
 "cells": [
  {
   "cell_type": "code",
   "execution_count": 1,
   "metadata": {},
   "outputs": [],
   "source": [
    "# import python2erlang\n",
    "import telebot\n",
    "from io import BytesIO\n",
    "from glob import glob\n",
    "import os\n",
    "from PIL import Image\n",
    "import random\n",
    "import requests\n",
    "import feedparser\n",
    "import uuid\n",
    "from time import sleep\n",
    "import datetime \n",
    "from distorter import distort\n",
    "\n",
    "latest_published = 'Sat, 18 Jan 2020 00:00:00 GMT'\n",
    "\n",
    "TOKEN = \"767844112:AAG0ktKMEt0cuiqWq8ljeYeALcVfMDgkLsI\"\n",
    "CHAN_ID = -1001483308854\n",
    "\n",
    "bot = telebot.TeleBot(TOKEN)"
   ]
  },
  {
   "cell_type": "code",
   "execution_count": 2,
   "metadata": {},
   "outputs": [],
   "source": [
    "def published_to_time(published):\n",
    "    return datetime.datetime.strptime(published, '%a, %d %b %Y %H:%M:%S %Z')"
   ]
  },
  {
   "cell_type": "code",
   "execution_count": 3,
   "metadata": {},
   "outputs": [],
   "source": [
    "def get_file_from_feed(img_link, img_id):\n",
    "    file = requests.get(img_link)\n",
    "    file_name = f\"images/{img_id}.jpg\"\n",
    "    if file:\n",
    "        with open(file_name, 'wb') as f:\n",
    "            f.write(file.content)\n",
    "    return file_name"
   ]
  },
  {
   "cell_type": "code",
   "execution_count": 4,
   "metadata": {},
   "outputs": [],
   "source": [
    "def distort_file(file_name, img_id):\n",
    "    distort(file_name, 0.4)\n",
    "    distorted_file = f\"result/images/{img_id}.jpg\"\n",
    "    return distorted_file"
   ]
  },
  {
   "cell_type": "code",
   "execution_count": 5,
   "metadata": {},
   "outputs": [],
   "source": [
    "def send_photo(distorted_file):\n",
    "    with open(distorted_file, 'rb') as f:\n",
    "          bot.send_photo(CHAN_ID, f)\n",
    "#         bot.send_photo(message.from_user.id, f)"
   ]
  },
  {
   "cell_type": "code",
   "execution_count": 6,
   "metadata": {},
   "outputs": [],
   "source": [
    "def shitpost(entry):\n",
    "    img_link = f\"{entry.id.lstrip('p://').rstrip('htm')}jpg\"\n",
    "    print(img_link)\n",
    "    img_id = uuid.uuid4().hex\n",
    "    file_name = get_file_from_feed(img_link, img_id)\n",
    "    distorted_file = distort_file(file_name, img_id)\n",
    "    send_photo(distorted_file)"
   ]
  },
  {
   "cell_type": "code",
   "execution_count": 7,
   "metadata": {},
   "outputs": [],
   "source": [
    "def clean_shit():\n",
    "    for distorted in glob(\"images/*\"):\n",
    "        os.remove(distorted)\n",
    "    for findistorted in glob(\"result/images/*\"):\n",
    "        os.remove(findistorted)"
   ]
  },
  {
   "cell_type": "code",
   "execution_count": 8,
   "metadata": {},
   "outputs": [],
   "source": [
    "@bot.message_handler(commands=['start', 'help'])\n",
    "def send_welcome(message):\n",
    "    bot.send_message(message.from_user.id, \"This is a bot based on the distortion bot(@DistortBot). Since its not open source, \"\n",
    "                        \"I decided to make an open source verison\")"
   ]
  },
  {
   "cell_type": "code",
   "execution_count": 9,
   "metadata": {},
   "outputs": [],
   "source": [
    "@bot.message_handler(content_types=['photo'])\n",
    "def dodistort(message):\n",
    "    file_id = message.photo[-1].file_id\n",
    "    file_info = bot.get_file(file_id)\n",
    "    file = requests.get('https://api.telegram.org/file/bot{0}/{1}'.format(TOKEN, file_info.file_path))\n",
    "    file_name = f\"images/{file_id}.jpg\"\n",
    "    file_name = f\"images/{img_id}.jpg\"\n",
    "    if file:\n",
    "        with open(file_name, 'wb') as f:\n",
    "            f.write(file.content)\n",
    "        distort(file_name)\n",
    "        distorted_file = f\"result/images/{file_id}.jpg\"\n",
    "        distort(distorted_file)\n",
    "        with open(distorted_file, 'rb') as f:\n",
    "            bot.send_photo(message.from_user.id, f)\n",
    "    else:\n",
    "        bot.send_message(message.from_user.id, \"Eat govno\")"
   ]
  },
  {
   "cell_type": "code",
   "execution_count": 10,
   "metadata": {},
   "outputs": [],
   "source": [
    "@bot.message_handler(content_types=['text'])\n",
    "def get_text_messages(message):\n",
    "    if message.text == \"Кто пидор?\":\n",
    "        bot.send_message(message.from_user.id, \"Ты\")\n",
    "    else:\n",
    "        bot.send_message(message.from_user.id, \"Я тебя не понимаю. Напиши /help.\")"
   ]
  },
  {
   "cell_type": "code",
   "execution_count": null,
   "metadata": {
    "scrolled": true
   },
   "outputs": [
    {
     "name": "stdout",
     "output_type": "stream",
     "text": [
      "Starting parsing feed\n",
      "Sun, 19 Jan 2020 12:00:00 GMT\n",
      "Sun, 19 Jan 2020 06:00:00 GMT\n",
      "Sun, 19 Jan 2020 00:00:00 GMT\n",
      "Sat, 18 Jan 2020 18:00:00 GMT\n",
      "Sat, 18 Jan 2020 12:00:00 GMT\n",
      "Sat, 18 Jan 2020 06:00:00 GMT\n",
      "Fri, 17 Jan 2020 18:00:00 GMT\n",
      "Fri, 17 Jan 2020 12:00:00 GMT\n",
      "Fri, 17 Jan 2020 06:00:00 GMT\n",
      "Fri, 17 Jan 2020 00:00:00 GMT\n",
      "Thu, 16 Jan 2020 18:00:01 GMT\n",
      "Thu, 16 Jan 2020 12:00:02 GMT\n",
      "Thu, 16 Jan 2020 06:00:00 GMT\n",
      "Thu, 16 Jan 2020 00:00:00 GMT\n",
      "Wed, 15 Jan 2020 18:00:00 GMT\n",
      "Wed, 15 Jan 2020 12:00:00 GMT\n",
      "Wed, 15 Jan 2020 06:00:00 GMT\n",
      "Wed, 15 Jan 2020 00:00:00 GMT\n",
      "Tue, 14 Jan 2020 18:00:00 GMT\n",
      "Tue, 14 Jan 2020 12:00:00 GMT\n",
      "Tue, 14 Jan 2020 06:00:00 GMT\n",
      "Tue, 14 Jan 2020 00:00:00 GMT\n",
      "Mon, 13 Jan 2020 18:00:00 GMT\n",
      "Mon, 13 Jan 2020 12:00:00 GMT\n",
      "Mon, 13 Jan 2020 06:00:00 GMT\n",
      "Mon, 13 Jan 2020 00:00:00 GMT\n",
      "Sun, 12 Jan 2020 18:00:00 GMT\n",
      "Sun, 12 Jan 2020 12:00:01 GMT\n",
      "Sun, 12 Jan 2020 06:00:00 GMT\n",
      "Sun, 12 Jan 2020 00:00:01 GMT\n",
      "Sat, 11 Jan 2020 18:00:00 GMT\n",
      "Sat, 11 Jan 2020 12:00:00 GMT\n",
      "Sat, 11 Jan 2020 06:00:00 GMT\n",
      "Sat, 11 Jan 2020 00:00:00 GMT\n",
      "Fri, 10 Jan 2020 18:00:00 GMT\n",
      "Fri, 10 Jan 2020 12:00:01 GMT\n",
      "Fri, 10 Jan 2020 06:00:00 GMT\n",
      "Fri, 10 Jan 2020 00:00:00 GMT\n",
      "Thu, 09 Jan 2020 18:00:00 GMT\n",
      "Thu, 09 Jan 2020 12:00:00 GMT\n",
      "Thu, 09 Jan 2020 06:00:00 GMT\n",
      "Thu, 09 Jan 2020 00:00:01 GMT\n",
      "Wed, 08 Jan 2020 18:00:00 GMT\n",
      "Wed, 08 Jan 2020 12:00:00 GMT\n",
      "Wed, 08 Jan 2020 06:00:00 GMT\n",
      "Wed, 08 Jan 2020 00:00:00 GMT\n",
      "Tue, 07 Jan 2020 18:00:00 GMT\n",
      "Tue, 07 Jan 2020 12:00:00 GMT\n",
      "Tue, 07 Jan 2020 06:00:00 GMT\n",
      "Tue, 07 Jan 2020 00:00:00 GMT\n",
      "Starting parsing feed\n",
      "No new post\n",
      "Starting parsing feed\n",
      "No new post\n",
      "Starting parsing feed\n",
      "No new post\n"
     ]
    }
   ],
   "source": [
    "while(1 == 1):\n",
    "    print('Starting parsing feed')  \n",
    "    NewsFeed = feedparser.parse(\"https://www.funnycatsite.com/rss/pictures/\")\n",
    "    entry = NewsFeed.entries[0]\n",
    "    if (entry.published != latest_published):\n",
    "        for i in NewsFeed.entries:\n",
    "            if (i.published != latest_published):\n",
    "#                 shitpost(i)\n",
    "                print(i.published)\n",
    "                sleep(5)\n",
    "        latest_published = entry.published\n",
    "    else:\n",
    "        print('No new post')\n",
    "    # Check once a hour\n",
    "    clean_shit()\n",
    "    sleep(10*60)"
   ]
  },
  {
   "cell_type": "code",
   "execution_count": null,
   "metadata": {},
   "outputs": [],
   "source": [
    "NewsFeed = feedparser.parse(\"https://www.funnycatsite.com/rss/pictures/\")\n",
    "entry = NewsFeed.entries[10]\n",
    "print(entry.published)\n"
   ]
  },
  {
   "cell_type": "code",
   "execution_count": null,
   "metadata": {},
   "outputs": [],
   "source": []
  },
  {
   "cell_type": "code",
   "execution_count": null,
   "metadata": {},
   "outputs": [],
   "source": []
  }
 ],
 "metadata": {
  "kernelspec": {
   "display_name": "Python 3",
   "language": "python",
   "name": "python3"
  },
  "language_info": {
   "codemirror_mode": {
    "name": "ipython",
    "version": 3
   },
   "file_extension": ".py",
   "mimetype": "text/x-python",
   "name": "python",
   "nbconvert_exporter": "python",
   "pygments_lexer": "ipython3",
   "version": "3.6.8"
  }
 },
 "nbformat": 4,
 "nbformat_minor": 2
}
